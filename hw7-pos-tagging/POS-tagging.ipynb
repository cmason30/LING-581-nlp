{
 "cells": [
  {
   "cell_type": "code",
   "execution_count": 44,
   "id": "f8ce3fef",
   "metadata": {},
   "outputs": [],
   "source": [
    "import nltk\n",
    "from polyglot.downloader import downloader\n",
    "from polyglot.text import Text\n",
    "import re"
   ]
  },
  {
   "cell_type": "code",
   "execution_count": 2,
   "id": "2ffd2acf",
   "metadata": {},
   "outputs": [],
   "source": [
    "# NLTK POS Practice\n",
    "\n",
    "text = nltk.word_tokenize(\"And now for something completely different\")"
   ]
  },
  {
   "cell_type": "code",
   "execution_count": 3,
   "id": "49648c10",
   "metadata": {},
   "outputs": [
    {
     "data": {
      "text/plain": [
       "['And', 'now', 'for', 'something', 'completely', 'different']"
      ]
     },
     "execution_count": 3,
     "metadata": {},
     "output_type": "execute_result"
    }
   ],
   "source": [
    "text"
   ]
  },
  {
   "cell_type": "code",
   "execution_count": 4,
   "id": "fe6bbc06",
   "metadata": {},
   "outputs": [
    {
     "data": {
      "text/plain": [
       "[('And', 'CC'),\n",
       " ('now', 'RB'),\n",
       " ('for', 'IN'),\n",
       " ('something', 'NN'),\n",
       " ('completely', 'RB'),\n",
       " ('different', 'JJ')]"
      ]
     },
     "execution_count": 4,
     "metadata": {},
     "output_type": "execute_result"
    }
   ],
   "source": [
    "# POS tagging on text\n",
    "\n",
    "nltk.pos_tag(text)"
   ]
  },
  {
   "cell_type": "code",
   "execution_count": 5,
   "id": "e950833b",
   "metadata": {},
   "outputs": [],
   "source": [
    "# Checking out tagged corpora\n",
    "\n",
    "brown_news_tagged = nltk.corpus.brown.tagged_words(categories='news', tagset='universal')"
   ]
  },
  {
   "cell_type": "code",
   "execution_count": 6,
   "id": "d28765c7",
   "metadata": {},
   "outputs": [
    {
     "data": {
      "text/plain": [
       "[('NOUN', 30654),\n",
       " ('VERB', 14399),\n",
       " ('ADP', 12355),\n",
       " ('.', 11928),\n",
       " ('DET', 11389),\n",
       " ('ADJ', 6706),\n",
       " ('ADV', 3349),\n",
       " ('CONJ', 2717),\n",
       " ('PRON', 2535),\n",
       " ('PRT', 2264),\n",
       " ('NUM', 2166),\n",
       " ('X', 92)]"
      ]
     },
     "execution_count": 6,
     "metadata": {},
     "output_type": "execute_result"
    }
   ],
   "source": [
    "tag_fd = nltk.FreqDist(tag for (word, tag) in brown_news_tagged)\n",
    "tag_fd.most_common()"
   ]
  },
  {
   "cell_type": "code",
   "execution_count": 7,
   "id": "8762ea17",
   "metadata": {},
   "outputs": [
    {
     "data": {
      "image/png": "[encoded data removed]",
      "text/plain": [
       "<Figure size 432x288 with 1 Axes>"
      ]
     },
     "metadata": {
      "needs_background": "light"
     },
     "output_type": "display_data"
    },
    {
     "data": {
      "text/plain": [
       "<AxesSubplot:xlabel='Samples', ylabel='Cumulative Counts'>"
      ]
     },
     "execution_count": 7,
     "metadata": {},
     "output_type": "execute_result"
    }
   ],
   "source": [
    "tag_fd.plot(cumulative=True)\n",
    "\n",
    "# Aroun 80% of the words in the Brown corpus are nouns, verbs, ., or articles"
   ]
  },
  {
   "cell_type": "code",
   "execution_count": 8,
   "id": "cd33ec33",
   "metadata": {},
   "outputs": [
    {
     "name": "stdout",
     "output_type": "stream",
     "text": [
      "  1. Italian                    2. French                     3. Spanish; Castilian       \n",
      "  4. Bulgarian                  5. Slovene                    6. Irish                    \n",
      "  7. Finnish                    8. Dutch                      9. Swedish                  \n",
      " 10. Danish                    11. Portuguese                12. English                  \n",
      " 13. German                    14. Indonesian                15. Czech                    \n",
      " 16. Hungarian                \n"
     ]
    }
   ],
   "source": [
    "# Using Polyglot\n",
    "\n",
    "print(downloader.supported_languages_table(\"pos2\"))"
   ]
  },
  {
   "cell_type": "code",
   "execution_count": 9,
   "id": "bbf913a5",
   "metadata": {},
   "outputs": [],
   "source": [
    "# POS tagging on blob\n",
    "\n",
    "blob = \"\"\"We will meet at eight o'clock on Thursday morning.\"\"\"\n",
    "text = Text(blob)"
   ]
  },
  {
   "cell_type": "code",
   "execution_count": 10,
   "id": "8024c069",
   "metadata": {},
   "outputs": [
    {
     "data": {
      "text/plain": [
       "[('We', 'PRON'),\n",
       " ('will', 'AUX'),\n",
       " ('meet', 'VERB'),\n",
       " ('at', 'ADP'),\n",
       " ('eight', 'NUM'),\n",
       " (\"o'clock\", 'NOUN'),\n",
       " ('on', 'ADP'),\n",
       " ('Thursday', 'PROPN'),\n",
       " ('morning', 'NOUN'),\n",
       " ('.', 'PUNCT')]"
      ]
     },
     "execution_count": 10,
     "metadata": {},
     "output_type": "execute_result"
    }
   ],
   "source": [
    "# Query of each word\n",
    "\n",
    "text.pos_tags"
   ]
  },
  {
   "cell_type": "code",
   "execution_count": 99,
   "id": "440fdb59",
   "metadata": {},
   "outputs": [],
   "source": [
    "with open(r\"At the Mountains of Madness.txt\",\"r\") as file:\n",
    "    data = file.read().replace('\\n', '')"
   ]
  },
  {
   "cell_type": "code",
   "execution_count": 19,
   "id": "9ff7a3f0",
   "metadata": {},
   "outputs": [],
   "source": [
    "txt_lovecraft = Text(data)"
   ]
  },
  {
   "cell_type": "code",
   "execution_count": 23,
   "id": "39242140",
   "metadata": {},
   "outputs": [],
   "source": [
    "txt = txt_lovecraft.pos_tags"
   ]
  },
  {
   "cell_type": "code",
   "execution_count": 123,
   "id": "798b7966",
   "metadata": {},
   "outputs": [
    {
     "data": {
      "text/plain": [
       "[('Chapter', 'NOUN'),\n",
       " ('1I', 'NUM'),\n",
       " ('am', 'AUX'),\n",
       " ('forced', 'VERB'),\n",
       " ('into', 'ADP'),\n",
       " ('speech', 'NOUN'),\n",
       " ('because', 'SCONJ'),\n",
       " ('men', 'NOUN'),\n",
       " ('of', 'ADP'),\n",
       " ('science', 'NOUN'),\n",
       " ('have', 'AUX'),\n",
       " ('refused', 'VERB'),\n",
       " ('to', 'PART'),\n",
       " ('follow', 'VERB'),\n",
       " ('my', 'PRON'),\n",
       " ('advice', 'NOUN'),\n",
       " ('without', 'ADP'),\n",
       " ('knowing', 'VERB'),\n",
       " ('why', 'ADV'),\n",
       " ('.', 'PUNCT'),\n",
       " ('It', 'PRON'),\n",
       " ('is', 'VERB'),\n",
       " ('altogether', 'ADV'),\n",
       " ('against', 'ADP'),\n",
       " ('my', 'PRON')]"
      ]
     },
     "execution_count": 123,
     "metadata": {},
     "output_type": "execute_result"
    }
   ],
   "source": [
    "# First 25 words of text\n",
    "\n",
    "txt[0:25]"
   ]
  },
  {
   "cell_type": "code",
   "execution_count": 124,
   "id": "05a4a64f",
   "metadata": {},
   "outputs": [
    {
     "data": {
      "text/plain": [
       "[('confined', 'VERB'),\n",
       " ('to', 'ADP'),\n",
       " ('the', 'DET'),\n",
       " ('repetition', 'NOUN'),\n",
       " ('of', 'ADP'),\n",
       " ('a', 'DET'),\n",
       " ('single', 'NOUN'),\n",
       " (',', 'PUNCT'),\n",
       " ('mad', 'ADJ'),\n",
       " ('word', 'NOUN'),\n",
       " ('of', 'ADP'),\n",
       " ('all', 'DET'),\n",
       " ('too', 'ADV'),\n",
       " ('obvious', 'ADJ'),\n",
       " ('source', 'NOUN'),\n",
       " (':', 'PUNCT'),\n",
       " ('\"', 'PUNCT'),\n",
       " ('Tekeli', 'NUM'),\n",
       " ('-', 'PUNCT'),\n",
       " ('li', 'PROPN'),\n",
       " ('!', 'PUNCT'),\n",
       " ('Tekeli', 'NUM'),\n",
       " ('-', 'PUNCT'),\n",
       " ('li', 'PROPN'),\n",
       " ('!', 'PUNCT')]"
      ]
     },
     "execution_count": 124,
     "metadata": {},
     "output_type": "execute_result"
    }
   ],
   "source": [
    "# Last 25 words.\n",
    "\n",
    "txt[-26:-1]"
   ]
  },
  {
   "cell_type": "code",
   "execution_count": 100,
   "id": "a55908eb",
   "metadata": {},
   "outputs": [],
   "source": [
    "words_lovecraft = re.split(' ',data)"
   ]
  },
  {
   "cell_type": "code",
   "execution_count": 104,
   "id": "e46ac082",
   "metadata": {},
   "outputs": [],
   "source": [
    "long_words = sorted(words_lovecraft, key=len, reverse=True)[0:1001]"
   ]
  },
  {
   "cell_type": "code",
   "execution_count": 114,
   "id": "5738f53e",
   "metadata": {},
   "outputs": [],
   "source": [
    "cleaned_long = []\n",
    "\n",
    "for i in long_words:\n",
    "    cleaned_long.extend(i.split('.'))\n",
    "    "
   ]
  },
  {
   "cell_type": "code",
   "execution_count": 119,
   "id": "2a5bb583",
   "metadata": {},
   "outputs": [],
   "source": [
    "sorted_long = sorted(cleaned_long, key=len, reverse=True)[0:101]"
   ]
  },
  {
   "cell_type": "code",
   "execution_count": 125,
   "id": "7f033ebd",
   "metadata": {},
   "outputs": [],
   "source": [
    "combined_long = ' '.join(sorted_long)"
   ]
  },
  {
   "cell_type": "code",
   "execution_count": 126,
   "id": "b55bf88d",
   "metadata": {},
   "outputs": [
    {
     "data": {
      "text/plain": [
       "'ultra-dimensionality starfish-arrangement four-and-a-half-hour conventionalization historic-mindedness wormily-honeycombed Starkweather-Moore Starkweather-Moore Starkweather-Moore Starkweather-Moore outward-projecting tortuous-channeled characteristically Starkweather-Moore investigativeness shorthand:\"Fowler diversifications; semi-remembrances five-pointedness; Borchgrevingk?The stock-undoubtedly penguin-droppings unaccountability again:\"Moulton\\'s description?\"The undeteriorative, congratulations, flight-companion five-pointedness muscular-nervous electro-chemical Boston-Cambridge horror-fostering protoShoggoths,\" notwithstanding rubbish-removal gasoline-driven transportation, horizon-grazing perpendicularly intermittently, semi-permanent, west-stretching notwithstanding revolutionizing lighter-colored unpropitiously, representatives labyrinthodonts starfish-shaped starfish-shaped congratulations starfish-shaped pre-Pleistocene reconnoitering, rock-collecting paleontologists spatter-fringed experimentation Roerich-painted adventurousness tempest-scarred debris-littered distinguishable notwithstanding two-dimensional differentiation phosphorescence half-crustacean transformations non-terrestrial notwithstanding rampart-crowned natural-looking intensification penguin-fringed interpretation, simultaneously, self-possession pass-resolutely disintegration fancy-stirring scientifically disappointment transportation fortifications considerations immaculateness differentiated well-preserved well-preserved incompleteness over-ambitious paraphernalia, quick-starting experimentally contributions, transportation contradictions unclassifiable transportation'"
      ]
     },
     "execution_count": 126,
     "metadata": {},
     "output_type": "execute_result"
    }
   ],
   "source": [
    "combined_long"
   ]
  },
  {
   "cell_type": "code",
   "execution_count": 127,
   "id": "a0658587",
   "metadata": {},
   "outputs": [],
   "source": [
    "txt_long = Text(combined_long)"
   ]
  },
  {
   "cell_type": "code",
   "execution_count": 135,
   "id": "0c6b67b9",
   "metadata": {},
   "outputs": [
    {
     "name": "stdout",
     "output_type": "stream",
     "text": [
      "('ultra', 'ADV')\n",
      "('dimensionality', 'NOUN')\n",
      "('starfish', 'NOUN')\n",
      "('arrangement', 'VERB')\n",
      "('four', 'NUM')\n",
      "('and', 'CONJ')\n",
      "('a', 'DET')\n",
      "('half', 'NOUN')\n",
      "('hour', 'NOUN')\n",
      "('conventionalization', 'NUM')\n",
      "('historic', 'ADJ')\n",
      "('mindedness', 'NOUN')\n",
      "('wormily', 'NUM')\n",
      "('honeycombed', 'NUM')\n",
      "('Starkweather', 'NUM')\n",
      "('Moore', 'PROPN')\n",
      "('Starkweather', 'NUM')\n",
      "('Moore', 'PROPN')\n",
      "('Starkweather', 'NUM')\n",
      "('Moore', 'PROPN')\n",
      "('Starkweather', 'NUM')\n",
      "('Moore', 'PROPN')\n",
      "('outward', 'ADV')\n",
      "('projecting', 'VERB')\n",
      "('tortuous', 'ADJ')\n",
      "('channeled', 'VERB')\n",
      "('characteristically', 'ADV')\n",
      "('Starkweather', 'NUM')\n",
      "('Moore', 'PROPN')\n",
      "('investigativeness', 'NUM')\n",
      "('shorthand', 'NOUN')\n",
      "('Fowler', 'PROPN')\n",
      "('diversifications', 'NUM')\n",
      "('semi', 'X')\n",
      "('remembrances', 'NUM')\n",
      "('five', 'NUM')\n",
      "('pointedness', 'NUM')\n",
      "('Borchgrevingk', 'NUM')\n",
      "('The', 'DET')\n",
      "('stock', 'NOUN')\n",
      "('undoubtedly', 'ADV')\n",
      "('penguin', 'NOUN')\n",
      "('droppings', 'NOUN')\n",
      "('unaccountability', 'NUM')\n",
      "('again', 'ADV')\n",
      "(\"Moulton's\", 'NUM')\n",
      "('description', 'NOUN')\n",
      "('The', 'DET')\n",
      "('undeteriorative', 'NUM')\n",
      "('congratulations', 'NOUN')\n",
      "('flight', 'NOUN')\n",
      "('companion', 'NOUN')\n",
      "('five', 'NUM')\n",
      "('pointedness', 'NUM')\n",
      "('muscular', 'ADJ')\n",
      "('nervous', 'ADJ')\n",
      "('electro', 'NOUN')\n",
      "('chemical', 'ADJ')\n",
      "('Boston', 'PROPN')\n",
      "('Cambridge', 'PROPN')\n",
      "('horror', 'NOUN')\n",
      "('fostering', 'VERB')\n",
      "('protoShoggoths', 'PROPN')\n",
      "('notwithstanding', 'VERB')\n",
      "('rubbish', 'NOUN')\n",
      "('removal', 'NOUN')\n",
      "('gasoline', 'NOUN')\n",
      "('driven', 'VERB')\n",
      "('transportation', 'NOUN')\n",
      "('horizon', 'NOUN')\n",
      "('grazing', 'NOUN')\n",
      "('perpendicularly', 'NUM')\n",
      "('intermittently', 'ADV')\n",
      "('semi', 'ADV')\n",
      "('permanent', 'ADJ')\n",
      "('west', 'NOUN')\n",
      "('stretching', 'NOUN')\n",
      "('notwithstanding', 'VERB')\n",
      "('revolutionizing', 'NUM')\n",
      "('lighter', 'ADJ')\n",
      "('colored', 'ADJ')\n",
      "('unpropitiously', 'NUM')\n",
      "('representatives', 'NOUN')\n",
      "('labyrinthodonts', 'NUM')\n",
      "('starfish', 'NOUN')\n",
      "('shaped', 'VERB')\n",
      "('starfish', 'NOUN')\n",
      "('shaped', 'VERB')\n",
      "('congratulations', 'NOUN')\n",
      "('starfish', 'NOUN')\n",
      "('shaped', 'VERB')\n",
      "('pre', 'X')\n",
      "('Pleistocene', 'PROPN')\n",
      "('reconnoitering', 'NUM')\n",
      "('rock', 'NOUN')\n",
      "('collecting', 'VERB')\n",
      "('paleontologists', 'NOUN')\n",
      "('spatter', 'NUM')\n",
      "('fringed', 'ADJ')\n",
      "('experimentation', 'NOUN')\n",
      "('Roerich', 'PROPN')\n",
      "('painted', 'VERB')\n",
      "('adventurousness', 'NUM')\n",
      "('tempest', 'NOUN')\n",
      "('scarred', 'VERB')\n",
      "('debris', 'NOUN')\n",
      "('littered', 'VERB')\n",
      "('distinguishable', 'ADJ')\n",
      "('notwithstanding', 'ADV')\n",
      "('two', 'NUM')\n",
      "('dimensional', 'ADJ')\n",
      "('differentiation', 'NOUN')\n",
      "('phosphorescence', 'PUNCT')\n",
      "('half', 'NOUN')\n",
      "('crustacean', 'NOUN')\n",
      "('transformations', 'NOUN')\n",
      "('non', 'X')\n",
      "('terrestrial', 'ADJ')\n",
      "('notwithstanding', 'X')\n",
      "('rampart', 'NOUN')\n",
      "('crowned', 'VERB')\n",
      "('natural', 'ADJ')\n",
      "('looking', 'VERB')\n",
      "('intensification', 'NOUN')\n",
      "('penguin', 'NOUN')\n",
      "('fringed', 'ADJ')\n",
      "('interpretation', 'NOUN')\n",
      "('simultaneously', 'ADV')\n",
      "('self', 'ADV')\n",
      "('possession', 'NOUN')\n",
      "('pass', 'NOUN')\n",
      "('resolutely', 'ADV')\n",
      "('disintegration', 'NOUN')\n",
      "('fancy', 'NOUN')\n",
      "('stirring', 'VERB')\n",
      "('scientifically', 'ADV')\n",
      "('disappointment', 'NOUN')\n",
      "('transportation', 'NOUN')\n",
      "('fortifications', 'NOUN')\n",
      "('considerations', 'X')\n",
      "('immaculateness', 'PUNCT')\n",
      "('differentiated', 'VERB')\n",
      "('well', 'ADV')\n",
      "('preserved', 'VERB')\n",
      "('well', 'ADV')\n",
      "('preserved', 'VERB')\n",
      "('incompleteness', 'NOUN')\n",
      "('over', 'ADP')\n",
      "('ambitious', 'ADJ')\n",
      "('paraphernalia', 'NOUN')\n",
      "('quick', 'ADJ')\n",
      "('starting', 'VERB')\n",
      "('experimentally', 'ADV')\n",
      "('contributions', 'NOUN')\n",
      "('transportation', 'NOUN')\n",
      "('contradictions', 'NOUN')\n",
      "('unclassifiable', 'NUM')\n",
      "('transportation', 'NOUN')\n"
     ]
    }
   ],
   "source": [
    "for i in sorted(txt_long.pos_tags, key=len, reverse=True):\n",
    "    if i[0] == '-' or i[0] == '?' or i[0] == ',' or i[0] == ':' or i[0] == ';' or i[0] == '\"':\n",
    "        continue\n",
    "    else: \n",
    "        print(i)"
   ]
  },
  {
   "cell_type": "code",
   "execution_count": null,
   "id": "5ee31d3c",
   "metadata": {},
   "outputs": [],
   "source": []
  }
 ],
 "metadata": {
  "kernelspec": {
   "display_name": "Python [conda env:LING581] *",
   "language": "python",
   "name": "conda-env-LING581-py"
  },
  "language_info": {
   "codemirror_mode": {
    "name": "ipython",
    "version": 3
   },
   "file_extension": ".py",
   "mimetype": "text/x-python",
   "name": "python",
   "nbconvert_exporter": "python",
   "pygments_lexer": "ipython3",
   "version": "3.7.11"
  }
 },
 "nbformat": 4,
 "nbformat_minor": 5
}
