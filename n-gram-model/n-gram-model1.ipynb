{
 "cells": [
  {
   "cell_type": "code",
   "execution_count": 28,
   "id": "9ab34773",
   "metadata": {},
   "outputs": [],
   "source": [
    "import string\n",
    "import random\n",
    "from typing import List\n",
    "import time\n",
    "\n",
    "# Ngram Model practice. With help of the tutorial linked below:\n",
    "\n",
    "# https://towardsdatascience.com/text-generation-using-n-gram-model-8d12d9802aa0\n",
    "\n",
    "\n",
    "\n",
    "# Creating a function to tokenize the text. \n",
    "def tokenize(text) -> List[str]:\n",
    "    \n",
    "    for punct in string.punctuation:\n",
    "        text = text.replace(punct, ' '+punct+' ')\n",
    "    t = text.split()\n",
    "    return t"
   ]
  },
  {
   "cell_type": "code",
   "execution_count": 29,
   "id": "e088f6de",
   "metadata": {},
   "outputs": [],
   "source": [
    "# Function that splits text into ngrams and adds starting strings to beginning. \n",
    "\n",
    "def get_ngrams(n: int, tokens: list) -> list:\n",
    "\n",
    "    tokens = (n-1)*['<START>']+tokens\n",
    "    l = [(tuple([tokens[i-p-1] for p in reversed(range(n-1))]), tokens[i]) for i in range(n-1, len(tokens))]\n",
    "    return l\n"
   ]
  },
  {
   "cell_type": "code",
   "execution_count": 82,
   "id": "c63d09a6",
   "metadata": {},
   "outputs": [],
   "source": [
    "# Final ngram class\n",
    "\n",
    "class NgramModel:\n",
    "    def __init__(self, n):\n",
    "        self.n = n\n",
    "        \n",
    "        self.context = {}\n",
    "        \n",
    "        self.ngram_counter = {}\n",
    "    \n",
    "    # Updates model after each ngram is analyzed.\n",
    "    def update(self, sentence: str) -> None:\n",
    "\n",
    "        n = self.n\n",
    "        ngrams = get_ngrams(n, tokenize(sentence))\n",
    "        for ngram in ngrams:\n",
    "            if ngram in self.ngram_counter:\n",
    "                self.ngram_counter[ngram] += 1.0\n",
    "            else:\n",
    "                self.ngram_counter[ngram] = 1.0\n",
    "\n",
    "            prev_words, target_word = ngram\n",
    "            if prev_words in self.context:\n",
    "                self.context[prev_words].append(target_word)\n",
    "            else:\n",
    "                self.context[prev_words] = [target_word]\n",
    "                \n",
    "    # Sets up conditional probability for text generation.\n",
    "    def cond_prob(self, context, token):\n",
    "        \n",
    "        try:\n",
    "            count_of_token = self.ngram_counter[(context, token)]\n",
    "            count_of_context = float(len(self.context[context]))\n",
    "            result = count_of_token / count_of_context\n",
    "\n",
    "        except KeyError:\n",
    "            result = 0.0\n",
    "        return result\n",
    "\n",
    "    \n",
    "    def random_token(self, context):\n",
    "        nur = random.random()\n",
    "        map_to_probs = {}\n",
    "        token_of_interest = self.context[context]\n",
    "        for token in token_of_interest:\n",
    "            map_to_probs[token] = self.cond_prob(context, token)\n",
    "\n",
    "        summ = 0\n",
    "        for token in sorted(map_to_probs):\n",
    "            summ += map_to_probs[token]\n",
    "            if summ > nur:\n",
    "                return token\n",
    "            \n",
    "    # Text generation function\n",
    "    def generate_text(self, token_count: int):\n",
    "        \n",
    "        n = self.n\n",
    "        context_queue = (n - 1) * ['<START>']\n",
    "        result = []\n",
    "        for _ in range(token_count):\n",
    "            obj = self.random_token(tuple(context_queue))\n",
    "            result.append(obj)\n",
    "            if n > 1:\n",
    "                context_queue.pop(0)\n",
    "                if obj == '.':\n",
    "                    context_queue = (n - 1) * ['<START>']\n",
    "                else:\n",
    "                    context_queue.append(obj)\n",
    "        return ' '.join(result)"
   ]
  },
  {
   "cell_type": "code",
   "execution_count": 83,
   "id": "addc9309",
   "metadata": {},
   "outputs": [],
   "source": [
    "def create_ngram_model(n, path):\n",
    "    \n",
    "    m = NgramModel(n)\n",
    "    with open(path, 'r') as f:\n",
    "        text = f.read()\n",
    "        text = text.split('.')\n",
    "        for sentence in text:\n",
    "            sentence += '.'\n",
    "            m.update(sentence)\n",
    "    return m"
   ]
  },
  {
   "cell_type": "code",
   "execution_count": 87,
   "id": "9ba80d0e",
   "metadata": {},
   "outputs": [],
   "source": [
    "model = create_ngram_model(6, 'moby.txt')"
   ]
  },
  {
   "cell_type": "code",
   "execution_count": 88,
   "id": "33435234",
   "metadata": {},
   "outputs": [
    {
     "name": "stdout",
     "output_type": "stream",
     "text": [
      "A short , stout , ruddy young fellow , very pugnacious concerning whales , who somehow seemed to think that the great leviathans had personally and hereditarily affronted him ; and therefore it was a sort of point of honour with him , to destroy them whenever encountered . My father , in old Tolland county , cut down a pine tree once , and found a silver ring grown over in it ; some old darkey’s wedding ring . Come hither ! bury thyself in a life which , to your now equally abhorred and abhorring , landed world , is more oblivious than death . Born in throes , ‘tis fit that man should live in pains and die in pangs ! So be it , then . ” “With what ? ” shouted I . It had a careless look , as if it were meant for the uses of the public ; so , entering , the first thing I did was to stumble over an ash - box in the porch . Rat - tat ! So man’s seconds tick ! Oh ! how immaterial are all materials ! What things real are there ,\n"
     ]
    }
   ],
   "source": [
    "# Output of 200 words from Moby Dick. \n",
    "\n",
    "print(model.generate_text(200))"
   ]
  },
  {
   "cell_type": "code",
   "execution_count": null,
   "id": "9b8ce36e",
   "metadata": {},
   "outputs": [],
   "source": []
  }
 ],
 "metadata": {
  "kernelspec": {
   "display_name": "Python [conda env:LING581] *",
   "language": "python",
   "name": "conda-env-LING581-py"
  },
  "language_info": {
   "codemirror_mode": {
    "name": "ipython",
    "version": 3
   },
   "file_extension": ".py",
   "mimetype": "text/x-python",
   "name": "python",
   "nbconvert_exporter": "python",
   "pygments_lexer": "ipython3",
   "version": "3.7.11"
  }
 },
 "nbformat": 4,
 "nbformat_minor": 5
}
