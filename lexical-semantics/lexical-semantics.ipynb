{
 "cells": [
  {
   "cell_type": "code",
   "execution_count": 1,
   "id": "2ca9aeda",
   "metadata": {},
   "outputs": [],
   "source": [
    "from gensim.models import Word2Vec\n",
    "from nltk.corpus import brown, movie_reviews, treebank"
   ]
  },
  {
   "cell_type": "code",
   "execution_count": 2,
   "id": "0f6a15a9",
   "metadata": {},
   "outputs": [],
   "source": [
    "b = Word2Vec(brown.sents())\n",
    "mr = Word2Vec(movie_reviews.sents())\n",
    "t = Word2Vec(treebank.sents())"
   ]
  },
  {
   "cell_type": "code",
   "execution_count": 4,
   "id": "27c365f7",
   "metadata": {},
   "outputs": [
    {
     "data": {
      "text/plain": [
       "[('care', 0.9047096371650696),\n",
       " ('job', 0.9022371172904968),\n",
       " ('trouble', 0.8824109435081482),\n",
       " ('chance', 0.8705999851226807),\n",
       " ('work', 0.8688546419143677)]"
      ]
     },
     "execution_count": 4,
     "metadata": {},
     "output_type": "execute_result"
    }
   ],
   "source": [
    "b.wv.most_similar('money', topn=15)"
   ]
  },
  {
   "cell_type": "code",
   "execution_count": 8,
   "id": "6ea320d7",
   "metadata": {},
   "outputs": [
    {
     "data": {
      "text/plain": [
       "[('army', 0.8891764879226685),\n",
       " ('band', 0.8690669536590576),\n",
       " ('jeep', 0.8549157381057739),\n",
       " ('gang', 0.8542613983154297),\n",
       " ('church', 0.8497953414916992),\n",
       " ('plans', 0.8437692523002625),\n",
       " ('command', 0.8420734405517578),\n",
       " ('barn', 0.8386609554290771),\n",
       " ('birthday', 0.8359491229057312),\n",
       " ('christine', 0.8359325528144836)]"
      ]
     },
     "execution_count": 8,
     "metadata": {},
     "output_type": "execute_result"
    }
   ],
   "source": [
    "mr.wv.most_similar('company', topn=10)"
   ]
  },
  {
   "cell_type": "code",
   "execution_count": null,
   "id": "28068bcb",
   "metadata": {},
   "outputs": [],
   "source": []
  }
 ],
 "metadata": {
  "kernelspec": {
   "display_name": "Python [conda env:LING581] *",
   "language": "python",
   "name": "conda-env-LING581-py"
  },
  "language_info": {
   "codemirror_mode": {
    "name": "ipython",
    "version": 3
   },
   "file_extension": ".py",
   "mimetype": "text/x-python",
   "name": "python",
   "nbconvert_exporter": "python",
   "pygments_lexer": "ipython3",
   "version": "3.7.11"
  }
 },
 "nbformat": 4,
 "nbformat_minor": 5
}
