{
 "cells": [
  {
   "cell_type": "code",
   "execution_count": 34,
   "id": "94a1935a",
   "metadata": {},
   "outputs": [],
   "source": [
    "from nltk.sentiment import SentimentIntensityAnalyzer\n",
    "import nltk"
   ]
  },
  {
   "cell_type": "code",
   "execution_count": 35,
   "id": "48c211d4",
   "metadata": {},
   "outputs": [],
   "source": [
    "sia = SentimentIntensityAnalyzer()"
   ]
  },
  {
   "cell_type": "code",
   "execution_count": 36,
   "id": "234e53e8",
   "metadata": {},
   "outputs": [
    {
     "data": {
      "text/plain": [
       "{'neg': 0.0, 'neu': 0.295, 'pos': 0.705, 'compound': 0.8012}"
      ]
     },
     "execution_count": 36,
     "metadata": {},
     "output_type": "execute_result"
    }
   ],
   "source": [
    "sia.polarity_scores(\"Wow, NLTK is really powerful!\")"
   ]
  },
  {
   "cell_type": "code",
   "execution_count": 37,
   "id": "4097d6a3",
   "metadata": {},
   "outputs": [],
   "source": [
    "positive_review_ids = nltk.corpus.movie_reviews.fileids(categories=[\"pos\"])\n",
    "negative_review_ids = nltk.corpus.movie_reviews.fileids(categories=[\"neg\"])\n",
    "all_review_ids = positive_review_ids + negative_review_ids"
   ]
  },
  {
   "cell_type": "code",
   "execution_count": 45,
   "id": "e3f4542f",
   "metadata": {},
   "outputs": [],
   "source": [
    "sentiment = []\n",
    "\n",
    "for idx, review_id in enumerate(positive_review_ids):\n",
    "    text = nltk.corpus.movie_reviews.raw(review_id)\n",
    "    sentiment.append(sia.polarity_scores(text))\n",
    "    \n",
    "    if idx == 10:\n",
    "        break\n",
    "        \n",
    "for idx, review_id in enumerate(negative_review_ids):\n",
    "    text = nltk.corpus.movie_reviews.raw(review_id)\n",
    "    sentiment.append(sia.polarity_scores(text))\n",
    "    \n",
    "    \n",
    "    if idx == 10:\n",
    "        break"
   ]
  },
  {
   "cell_type": "code",
   "execution_count": 46,
   "id": "fc236533",
   "metadata": {},
   "outputs": [
    {
     "data": {
      "text/plain": [
       "[{'neg': 0.12, 'neu': 0.753, 'pos': 0.127, 'compound': -0.5887},\n",
       " {'neg': 0.081, 'neu': 0.819, 'pos': 0.1, 'compound': 0.843},\n",
       " {'neg': 0.086, 'neu': 0.704, 'pos': 0.211, 'compound': 0.9962},\n",
       " {'neg': 0.079, 'neu': 0.813, 'pos': 0.107, 'compound': 0.9865},\n",
       " {'neg': 0.101, 'neu': 0.792, 'pos': 0.108, 'compound': -0.3525},\n",
       " {'neg': 0.071, 'neu': 0.807, 'pos': 0.122, 'compound': 0.9937},\n",
       " {'neg': 0.144, 'neu': 0.717, 'pos': 0.139, 'compound': -0.8783},\n",
       " {'neg': 0.053, 'neu': 0.784, 'pos': 0.163, 'compound': 0.997},\n",
       " {'neg': 0.109, 'neu': 0.764, 'pos': 0.127, 'compound': 0.7236},\n",
       " {'neg': 0.161, 'neu': 0.729, 'pos': 0.11, 'compound': -0.9813},\n",
       " {'neg': 0.065, 'neu': 0.834, 'pos': 0.1, 'compound': 0.9741},\n",
       " {'neg': 0.093, 'neu': 0.762, 'pos': 0.145, 'compound': 0.9924},\n",
       " {'neg': 0.041, 'neu': 0.866, 'pos': 0.093, 'compound': 0.916},\n",
       " {'neg': 0.1, 'neu': 0.784, 'pos': 0.117, 'compound': 0.81},\n",
       " {'neg': 0.153, 'neu': 0.712, 'pos': 0.135, 'compound': -0.8834},\n",
       " {'neg': 0.077, 'neu': 0.842, 'pos': 0.081, 'compound': 0.8029},\n",
       " {'neg': 0.147, 'neu': 0.755, 'pos': 0.098, 'compound': -0.9895},\n",
       " {'neg': 0.117, 'neu': 0.804, 'pos': 0.079, 'compound': -0.9753},\n",
       " {'neg': 0.161, 'neu': 0.669, 'pos': 0.17, 'compound': 0.7836},\n",
       " {'neg': 0.091, 'neu': 0.857, 'pos': 0.052, 'compound': -0.9523},\n",
       " {'neg': 0.1, 'neu': 0.755, 'pos': 0.145, 'compound': 0.9837},\n",
       " {'neg': 0.101, 'neu': 0.748, 'pos': 0.151, 'compound': 0.9894}]"
      ]
     },
     "execution_count": 46,
     "metadata": {},
     "output_type": "execute_result"
    }
   ],
   "source": [
    "sentiment"
   ]
  },
  {
   "cell_type": "code",
   "execution_count": 51,
   "id": "6147aa03",
   "metadata": {},
   "outputs": [
    {
     "data": {
      "text/plain": [
       "\"you've got mail works alot better than it deserves to . \\nin order to make the film a success , all they had to do was cast two extremely popular and attractive stars , have them share the screen for about two hours and then collect the profits . \\nno real acting was involved and there is not an original or inventive bone in it's body ( it's basically a complete re-shoot of the shop around the corner , only adding a few modern twists ) . \\nessentially , it goes against and defies all concepts of good contemporary filmmaking . \\nit's overly sentimental and at times terribly mushy , not to mention very manipulative . \\nbut oh , how enjoyable that manipulation is . \\nbut there must be something other than the casting and manipulation that makes the movie work as well as it does , because i absolutely hated the previous ryan/hanks teaming , sleepless in seattle . \\nit couldn't have been the directing , because both films were helmed by the same woman . \\ni haven't quite yet figured out what i liked so much about you've got mail , but then again , is that really important ? \\nif you like something so much , why even question it ? \\nagain , the storyline is as cliched as they come . \\ntom hanks plays joe fox , the insanely likeable owner of a discount book chain and meg ryan plays kathleen kelley , the even more insanely likeable proprietor of a family-run children's book shop called , in a nice homage , the shop around the corner . \\nfox and kelley soon become bitter rivals because the new fox books store is opening up right across the block from the small business . \\nlittle do they know , they are already in love with each other over the internet , only neither party knows the other person's true identity . \\nthe rest of the story isn't important because all it does is serve as a mere backdrop for the two stars to share the screen . \\nsure , there are some mildly interesting subplots , but they all fail in comparison to the utter cuteness of the main relationship . \\nall of this , of course , leads up to the predictable climax . \\nbut as foreseeable as the ending is , it's so damn cute and well-done that i doubt any movie in the entire year contains a scene the evokes as much pure joy as this part does . \\nwhen ryan discovers the true identity of her online love , i was filled with such , for lack of a better word , happiness that for the first time all year , i actually left the theater smiling . \\n\""
      ]
     },
     "execution_count": 51,
     "metadata": {},
     "output_type": "execute_result"
    }
   ],
   "source": [
    "nltk.corpus.movie_reviews.raw(positive_review_ids[2])"
   ]
  },
  {
   "cell_type": "code",
   "execution_count": null,
   "id": "dcc1afb3",
   "metadata": {},
   "outputs": [],
   "source": []
  }
 ],
 "metadata": {
  "kernelspec": {
   "display_name": "Python [conda env:LING581] *",
   "language": "python",
   "name": "conda-env-LING581-py"
  },
  "language_info": {
   "codemirror_mode": {
    "name": "ipython",
    "version": 3
   },
   "file_extension": ".py",
   "mimetype": "text/x-python",
   "name": "python",
   "nbconvert_exporter": "python",
   "pygments_lexer": "ipython3",
   "version": "3.7.11"
  }
 },
 "nbformat": 4,
 "nbformat_minor": 5
}
